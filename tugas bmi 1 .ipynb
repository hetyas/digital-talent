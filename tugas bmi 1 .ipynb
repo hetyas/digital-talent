{
 "cells": [
  {
   "cell_type": "markdown",
   "metadata": {},
   "source": [
    "# Tugas BMI \n",
    "### oleh nurul hestiningtyas"
   ]
  },
  {
   "cell_type": "markdown",
   "metadata": {},
   "source": [
    "variabel \n",
    "- berat badan\n",
    "- tinggi badan"
   ]
  },
  {
   "cell_type": "code",
   "execution_count": 21,
   "metadata": {},
   "outputs": [
    {
     "name": "stdout",
     "output_type": "stream",
     "text": [
      "27.025809648214047\n",
      "overweight\n",
      "selesai\n"
     ]
    }
   ],
   "source": [
    "berat = 60 #dalam kg\n",
    "tinggi= 149 #dalam cm\n",
    "T = (tinggi/100)\n",
    "\n",
    "bmi = (berat/T**2)\n",
    "print (bmi)\n",
    "\n",
    "if bmi < 15:\n",
    "    print (\"very severely underweight\")\n",
    "if bmi > 15 and bmi < 16 :\n",
    "    print (\"severely underweight\")\n",
    "if bmi > 16 and bmi < 18.5:\n",
    "    print (\"underweight\")\n",
    "if bmi > 18.5 and bmi < 25:\n",
    "    print (\"normal\")\n",
    "if bmi > 25 and bmi < 30 :\n",
    "    print (\"overweight\")\n",
    "if bmi > 30 and bmi < 35 :\n",
    "    print (\"moderatey obese\")\n",
    "if bmi > 35 and bmi < 40 :\n",
    "    print (\"severely obese\")\n",
    "if bmi > 40 :\n",
    "    print (\" very severely obese\")\n",
    "\n",
    "print (\"selesai\")"
   ]
  },
  {
   "cell_type": "code",
   "execution_count": 17,
   "metadata": {},
   "outputs": [
    {
     "name": "stdout",
     "output_type": "stream",
     "text": [
      "1.49\n",
      "27.025809648214047\n"
     ]
    }
   ],
   "source": [
    "berat = 60 #dalam kg\n",
    "tinggi= 149 #dalam cm\n",
    "T = (tinggi/100)\n",
    "print (T)\n",
    "BMI = (berat/T**2)\n",
    "print (BMI)\n",
    "\n",
    "\n"
   ]
  },
  {
   "cell_type": "code",
   "execution_count": null,
   "metadata": {},
   "outputs": [],
   "source": []
  }
 ],
 "metadata": {
  "kernelspec": {
   "display_name": "Python 3",
   "language": "python",
   "name": "python3"
  },
  "language_info": {
   "codemirror_mode": {
    "name": "ipython",
    "version": 3
   },
   "file_extension": ".py",
   "mimetype": "text/x-python",
   "name": "python",
   "nbconvert_exporter": "python",
   "pygments_lexer": "ipython3",
   "version": "3.7.0"
  }
 },
 "nbformat": 4,
 "nbformat_minor": 2
}
