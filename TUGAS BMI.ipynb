{
 "cells": [
  {
   "cell_type": "markdown",
   "metadata": {},
   "source": [
    "# Tugas BMI \n",
    "### nama : nurul hestiningtyas\n"
   ]
  },
  {
   "cell_type": "markdown",
   "metadata": {},
   "source": [
    "kategorisasi bmi :\n",
    "kurang dari 15 very severely underweight\n",
    "diantara 15 dan 16 severly underweight\n",
    "diantara 16 dan 18.5 underweight\n",
    "diantara 18.5 dan 25 normal\n",
    "diantara 25 dan 30 overweight\n",
    "diantara 30 dan 35 moderately obese\n",
    "diantara 35 dan 40 severely obese\n",
    "over 40 very severely obese"
   ]
  },
  {
   "cell_type": "code",
   "execution_count": 2,
   "metadata": {},
   "outputs": [
    {
     "name": "stdout",
     "output_type": "stream",
     "text": [
      "berat badan (kg)60\n",
      " tinggi badan(cm):149\n",
      "bmi skor 27.025809648214047\n",
      "kategori : moderately\n"
     ]
    }
   ],
   "source": [
    "#rumus bmi\n",
    "\n",
    "berat = float(input('berat badan (kg)'))\n",
    "tinggi = float(input(' tinggi badan(cm):'))\n",
    "tinggi_m = tinggi/100 \n",
    "\n",
    "bmi = berat/(tinggi_m**2)\n",
    "print(\"bmi skor\",bmi)\n",
    "\n",
    "if bmi< 15 :\n",
    "    print (\"kategori: very severely underweight\")\n",
    "elif bmi < 16:\n",
    "    print (\"kategori:severely underweight\")\n",
    "elif bmi < 18.5:\n",
    "    print (\"kategori :underweight\")\n",
    "elif bmi <= 25:\n",
    "    print (\"kategori : normal\")\n",
    "elif bmi <=30 :\n",
    "    print (\"kategori : moderately\")\n",
    "elif bmi <= 35 :\n",
    "    print (\"kategori : moderately obese\")\n",
    "elif bmi <= 40 :\n",
    "    print (\"kategori : severely obese\")\n",
    "else :\n",
    "    print (\"kategori : very severely obese\")"
   ]
  },
  {
   "cell_type": "code",
   "execution_count": null,
   "metadata": {},
   "outputs": [],
   "source": []
  }
 ],
 "metadata": {
  "kernelspec": {
   "display_name": "Python 3",
   "language": "python",
   "name": "python3"
  },
  "language_info": {
   "codemirror_mode": {
    "name": "ipython",
    "version": 3
   },
   "file_extension": ".py",
   "mimetype": "text/x-python",
   "name": "python",
   "nbconvert_exporter": "python",
   "pygments_lexer": "ipython3",
   "version": "3.7.0"
  }
 },
 "nbformat": 4,
 "nbformat_minor": 2
}
